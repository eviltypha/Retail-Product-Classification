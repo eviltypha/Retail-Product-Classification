{
  "nbformat": 4,
  "nbformat_minor": 0,
  "metadata": {
    "colab": {
      "name": "vgg16.ipynb",
      "provenance": [],
      "collapsed_sections": []
    },
    "kernelspec": {
      "name": "python3",
      "display_name": "Python 3"
    },
    "accelerator": "GPU"
  },
  "cells": [
    {
      "cell_type": "code",
      "metadata": {
        "id": "bi1oeriBUdgF",
        "colab": {
          "base_uri": "https://localhost:8080/",
          "height": 102
        },
        "outputId": "883dedfe-548b-48ad-f207-313acf5ba486"
      },
      "source": [
        "%tensorflow_version 2.2"
      ],
      "execution_count": null,
      "outputs": [
        {
          "output_type": "stream",
          "text": [
            "`%tensorflow_version` only switches the major version: 1.x or 2.x.\n",
            "You set: `2.2`. This will be interpreted as: `2.x`.\n",
            "\n",
            "\n",
            "TensorFlow 2.x selected.\n"
          ],
          "name": "stdout"
        }
      ]
    },
    {
      "cell_type": "code",
      "metadata": {
        "id": "UBNDX2UcUnor",
        "colab": {
          "base_uri": "https://localhost:8080/",
          "height": 35
        },
        "outputId": "32980367-8f96-4e2f-f30c-700e592d015a"
      },
      "source": [
        "import tensorflow as tf\n",
        "tf.__version__"
      ],
      "execution_count": null,
      "outputs": [
        {
          "output_type": "execute_result",
          "data": {
            "application/vnd.google.colaboratory.intrinsic+json": {
              "type": "string"
            },
            "text/plain": [
              "'2.3.0'"
            ]
          },
          "metadata": {
            "tags": []
          },
          "execution_count": 2
        }
      ]
    },
    {
      "cell_type": "code",
      "metadata": {
        "id": "zjo89tdiSzO6"
      },
      "source": [
        "import keras\n",
        "import numpy as np\n",
        "from keras.applications import vgg16\n",
        "\n",
        "model =keras.applications.VGG16(include_top=False, weights='imagenet', input_tensor=None, input_shape=(100,100,3),\n",
        "                        pooling=None,classes=36,classifier_activation='softmax')\n",
        "#model.compile( 'adam', loss = 'categorical_crossentropy', metrics = ['accuracy'])\n",
        "model.trainable = False\n",
        "train = keras.Sequential()\n",
        "for layers in model.layers:\n",
        "  train.add(layers)\n",
        "train.add(keras.layers.Flatten())\n",
        "train.add(keras.layers.Dense(256, activation= 'relu'))\n",
        "train.add(keras.layers.Dense(256, activation = 'relu'))\n",
        "train.add(keras.layers.Dense(36, activation = 'softmax'))\n",
        "train.add(keras.layers.Flatten())\n",
        "train.compile('adam', loss = 'categorical_crossentropy', metrics = ['accuracy'])\n",
        "train.summary()\n",
        "#model.summary()"
      ],
      "execution_count": null,
      "outputs": []
    },
    {
      "cell_type": "code",
      "metadata": {
        "id": "wpNpsnHEaS9c",
        "colab": {
          "base_uri": "https://localhost:8080/",
          "height": 51
        },
        "outputId": "df023bdf-3578-4059-d4b7-56aa96771e75"
      },
      "source": [
        " from tensorflow.python.keras.preprocessing.image import ImageDataGenerator, load_img\n",
        " trdata =  ImageDataGenerator(samplewise_center=True, samplewise_std_normalization=True)\n",
        " train_data = trdata.flow_from_directory(\n",
        " '/content/drive/My Drive/data/train',\n",
        " target_size = (100,100),\n",
        " class_mode = \"categorical\")\n",
        "\n",
        " tsdata = ImageDataGenerator(samplewise_center=True, samplewise_std_normalization=True)\n",
        " test_data = tsdata.flow_from_directory(\n",
        "     '/content/drive/My Drive/data/validation',\n",
        "     target_size = (100,100),\n",
        "     class_mode = (\"categorical\")\n",
        " )\n",
        "\n",
        "#train_data, validation_data = keras.datasets.mnist.load_data()\n",
        "#print('train_data shape = ', train_data[:3])"
      ],
      "execution_count": null,
      "outputs": [
        {
          "output_type": "stream",
          "text": [
            "Found 28492 images belonging to 36 classes.\n",
            "Found 7124 images belonging to 36 classes.\n"
          ],
          "name": "stdout"
        }
      ]
    },
    {
      "cell_type": "code",
      "metadata": {
        "id": "B7ice_T2oFGq"
      },
      "source": [
        "import math\n",
        "\n",
        "batch_size = 32\n",
        "compute = lambda x: int(math.ceil(1. * x / batch_size))\n",
        "steps_per_epoch = compute(8568)\n",
        "val_steps = compute(2143)"
      ],
      "execution_count": null,
      "outputs": []
    },
    {
      "cell_type": "code",
      "metadata": {
        "id": "H1Rw7fBDcu3L",
        "colab": {
          "base_uri": "https://localhost:8080/",
          "height": 1000
        },
        "outputId": "ae9c1ccf-cd55-4dcd-ad1e-7faae6c24628"
      },
      "source": [
        "train.fit(train_data, validation_data = test_data, epochs = 50)"
      ],
      "execution_count": null,
      "outputs": [
        {
          "output_type": "stream",
          "text": [
            "Epoch 1/50\n",
            "891/891 [==============================] - 81s 91ms/step - loss: 0.2822 - accuracy: 0.9715 - val_loss: 0.3814 - val_accuracy: 0.9611\n",
            "Epoch 2/50\n",
            "891/891 [==============================] - 81s 91ms/step - loss: 0.0730 - accuracy: 0.9903 - val_loss: 0.3769 - val_accuracy: 0.9629\n",
            "Epoch 3/50\n",
            "891/891 [==============================] - 81s 91ms/step - loss: 0.0480 - accuracy: 0.9927 - val_loss: 0.3055 - val_accuracy: 0.9693\n",
            "Epoch 4/50\n",
            "891/891 [==============================] - 83s 93ms/step - loss: 0.0404 - accuracy: 0.9938 - val_loss: 0.3291 - val_accuracy: 0.9655\n",
            "Epoch 5/50\n",
            "891/891 [==============================] - 81s 90ms/step - loss: 0.0312 - accuracy: 0.9950 - val_loss: 0.3834 - val_accuracy: 0.9611\n",
            "Epoch 6/50\n",
            "891/891 [==============================] - 81s 91ms/step - loss: 0.0274 - accuracy: 0.9952 - val_loss: 0.2776 - val_accuracy: 0.9684\n",
            "Epoch 7/50\n",
            "891/891 [==============================] - 81s 91ms/step - loss: 0.0432 - accuracy: 0.9934 - val_loss: 0.3858 - val_accuracy: 0.9590\n",
            "Epoch 8/50\n",
            "891/891 [==============================] - 82s 92ms/step - loss: 0.0284 - accuracy: 0.9952 - val_loss: 0.2669 - val_accuracy: 0.9711\n",
            "Epoch 9/50\n",
            "891/891 [==============================] - 79s 89ms/step - loss: 0.0223 - accuracy: 0.9962 - val_loss: 0.3426 - val_accuracy: 0.9652\n",
            "Epoch 10/50\n",
            "891/891 [==============================] - 79s 89ms/step - loss: 0.0354 - accuracy: 0.9944 - val_loss: 0.3915 - val_accuracy: 0.9621\n",
            "Epoch 11/50\n",
            "891/891 [==============================] - 79s 89ms/step - loss: 0.0335 - accuracy: 0.9951 - val_loss: 0.3284 - val_accuracy: 0.9683\n",
            "Epoch 12/50\n",
            "891/891 [==============================] - 81s 90ms/step - loss: 0.0262 - accuracy: 0.9959 - val_loss: 0.3338 - val_accuracy: 0.9683\n",
            "Epoch 13/50\n",
            "891/891 [==============================] - 79s 89ms/step - loss: 0.0301 - accuracy: 0.9953 - val_loss: 0.2408 - val_accuracy: 0.9757\n",
            "Epoch 14/50\n",
            "891/891 [==============================] - 79s 89ms/step - loss: 0.0141 - accuracy: 0.9976 - val_loss: 0.2677 - val_accuracy: 0.9733\n",
            "Epoch 15/50\n",
            "891/891 [==============================] - 80s 90ms/step - loss: 0.0226 - accuracy: 0.9966 - val_loss: 0.3629 - val_accuracy: 0.9639\n",
            "Epoch 16/50\n",
            "891/891 [==============================] - 80s 90ms/step - loss: 0.0312 - accuracy: 0.9958 - val_loss: 0.2832 - val_accuracy: 0.9745\n",
            "Epoch 17/50\n",
            "891/891 [==============================] - 80s 89ms/step - loss: 0.0299 - accuracy: 0.9954 - val_loss: 0.3334 - val_accuracy: 0.9674\n",
            "Epoch 18/50\n",
            "891/891 [==============================] - 80s 90ms/step - loss: 0.0184 - accuracy: 0.9974 - val_loss: 0.2886 - val_accuracy: 0.9760\n",
            "Epoch 19/50\n",
            "891/891 [==============================] - 81s 91ms/step - loss: 0.0238 - accuracy: 0.9968 - val_loss: 0.3459 - val_accuracy: 0.9697\n",
            "Epoch 20/50\n",
            "891/891 [==============================] - 79s 89ms/step - loss: 0.0173 - accuracy: 0.9972 - val_loss: 0.3095 - val_accuracy: 0.9719\n",
            "Epoch 21/50\n",
            "891/891 [==============================] - 79s 89ms/step - loss: 0.0135 - accuracy: 0.9977 - val_loss: 0.2451 - val_accuracy: 0.9767\n",
            "Epoch 22/50\n",
            "891/891 [==============================] - 79s 89ms/step - loss: 0.0206 - accuracy: 0.9970 - val_loss: 0.3918 - val_accuracy: 0.9638\n",
            "Epoch 23/50\n",
            "891/891 [==============================] - 81s 91ms/step - loss: 0.0335 - accuracy: 0.9959 - val_loss: 0.3754 - val_accuracy: 0.9684\n",
            "Epoch 24/50\n",
            "891/891 [==============================] - 79s 89ms/step - loss: 0.0298 - accuracy: 0.9959 - val_loss: 0.3545 - val_accuracy: 0.9687\n",
            "Epoch 25/50\n",
            "891/891 [==============================] - 80s 90ms/step - loss: 0.0298 - accuracy: 0.9965 - val_loss: 0.3277 - val_accuracy: 0.9719\n",
            "Epoch 26/50\n",
            "891/891 [==============================] - 79s 89ms/step - loss: 0.0178 - accuracy: 0.9974 - val_loss: 0.2859 - val_accuracy: 0.9747\n",
            "Epoch 27/50\n",
            "891/891 [==============================] - 80s 90ms/step - loss: 0.0210 - accuracy: 0.9972 - val_loss: 0.3304 - val_accuracy: 0.9730\n",
            "Epoch 28/50\n",
            "891/891 [==============================] - 79s 89ms/step - loss: 0.0228 - accuracy: 0.9970 - val_loss: 0.3467 - val_accuracy: 0.9709\n",
            "Epoch 29/50\n",
            "891/891 [==============================] - 79s 89ms/step - loss: 0.0224 - accuracy: 0.9973 - val_loss: 0.2829 - val_accuracy: 0.9770\n",
            "Epoch 30/50\n",
            "891/891 [==============================] - 79s 89ms/step - loss: 0.0177 - accuracy: 0.9976 - val_loss: 0.2836 - val_accuracy: 0.9757\n",
            "Epoch 31/50\n",
            "891/891 [==============================] - 80s 90ms/step - loss: 0.0455 - accuracy: 0.9952 - val_loss: 0.4529 - val_accuracy: 0.9634\n",
            "Epoch 32/50\n",
            "891/891 [==============================] - 80s 89ms/step - loss: 0.0259 - accuracy: 0.9967 - val_loss: 0.3884 - val_accuracy: 0.9676\n",
            "Epoch 33/50\n",
            "891/891 [==============================] - 79s 89ms/step - loss: 0.0249 - accuracy: 0.9972 - val_loss: 0.3848 - val_accuracy: 0.9697\n",
            "Epoch 34/50\n",
            "891/891 [==============================] - 80s 90ms/step - loss: 0.0328 - accuracy: 0.9966 - val_loss: 0.4760 - val_accuracy: 0.9622\n",
            "Epoch 35/50\n",
            "891/891 [==============================] - 81s 91ms/step - loss: 0.0272 - accuracy: 0.9969 - val_loss: 0.4115 - val_accuracy: 0.9673\n",
            "Epoch 36/50\n",
            "891/891 [==============================] - 79s 89ms/step - loss: 0.0167 - accuracy: 0.9976 - val_loss: 0.2829 - val_accuracy: 0.9763\n",
            "Epoch 37/50\n",
            "891/891 [==============================] - 80s 90ms/step - loss: 0.0099 - accuracy: 0.9984 - val_loss: 0.3282 - val_accuracy: 0.9726\n",
            "Epoch 38/50\n",
            "891/891 [==============================] - 79s 89ms/step - loss: 0.0268 - accuracy: 0.9969 - val_loss: 0.3387 - val_accuracy: 0.9721\n",
            "Epoch 39/50\n",
            "891/891 [==============================] - 80s 90ms/step - loss: 0.0215 - accuracy: 0.9971 - val_loss: 0.3728 - val_accuracy: 0.9701\n",
            "Epoch 40/50\n",
            "891/891 [==============================] - 78s 88ms/step - loss: 0.0099 - accuracy: 0.9984 - val_loss: 0.4914 - val_accuracy: 0.9627\n",
            "Epoch 41/50\n",
            "891/891 [==============================] - 79s 88ms/step - loss: 0.0261 - accuracy: 0.9971 - val_loss: 0.4117 - val_accuracy: 0.9683\n",
            "Epoch 42/50\n",
            "891/891 [==============================] - 79s 88ms/step - loss: 0.0236 - accuracy: 0.9970 - val_loss: 0.3225 - val_accuracy: 0.9743\n",
            "Epoch 43/50\n",
            "891/891 [==============================] - 80s 90ms/step - loss: 0.0091 - accuracy: 0.9985 - val_loss: 0.3674 - val_accuracy: 0.9701\n",
            "Epoch 44/50\n",
            "891/891 [==============================] - 79s 88ms/step - loss: 0.0171 - accuracy: 0.9978 - val_loss: 0.3611 - val_accuracy: 0.9712\n",
            "Epoch 45/50\n",
            "891/891 [==============================] - 79s 89ms/step - loss: 0.0194 - accuracy: 0.9977 - val_loss: 0.4938 - val_accuracy: 0.9625\n",
            "Epoch 46/50\n",
            "891/891 [==============================] - 79s 89ms/step - loss: 0.0237 - accuracy: 0.9970 - val_loss: 0.3429 - val_accuracy: 0.9733\n",
            "Epoch 47/50\n",
            "891/891 [==============================] - 80s 90ms/step - loss: 0.0350 - accuracy: 0.9965 - val_loss: 0.3039 - val_accuracy: 0.9768\n",
            "Epoch 48/50\n",
            "891/891 [==============================] - 79s 88ms/step - loss: 0.0251 - accuracy: 0.9973 - val_loss: 0.3188 - val_accuracy: 0.9747\n",
            "Epoch 49/50\n",
            "891/891 [==============================] - 79s 88ms/step - loss: 0.0180 - accuracy: 0.9979 - val_loss: 0.3382 - val_accuracy: 0.9739\n",
            "Epoch 50/50\n",
            "891/891 [==============================] - 79s 88ms/step - loss: 0.0187 - accuracy: 0.9981 - val_loss: 0.3723 - val_accuracy: 0.9726\n"
          ],
          "name": "stdout"
        },
        {
          "output_type": "execute_result",
          "data": {
            "text/plain": [
              "<tensorflow.python.keras.callbacks.History at 0x7fb8ba3b8e48>"
            ]
          },
          "metadata": {
            "tags": []
          },
          "execution_count": 21
        }
      ]
    },
    {
      "cell_type": "code",
      "metadata": {
        "id": "rO1NQbHEf1ve",
        "colab": {
          "base_uri": "https://localhost:8080/",
          "height": 35
        },
        "outputId": "bfb19ad5-42f1-4425-8a08-8cb514e53460"
      },
      "source": [
        "import tensorflow as tf\n",
        "tf.test.gpu_device_name()"
      ],
      "execution_count": null,
      "outputs": [
        {
          "output_type": "execute_result",
          "data": {
            "application/vnd.google.colaboratory.intrinsic+json": {
              "type": "string"
            },
            "text/plain": [
              "'/device:GPU:0'"
            ]
          },
          "metadata": {
            "tags": []
          },
          "execution_count": 6
        }
      ]
    },
    {
      "cell_type": "code",
      "metadata": {
        "id": "LIWHlJbNeKpZ"
      },
      "source": [
        "train.save('/content/standard.h5')"
      ],
      "execution_count": null,
      "outputs": []
    },
    {
      "cell_type": "code",
      "metadata": {
        "id": "UXuMiNThV1bV",
        "colab": {
          "base_uri": "https://localhost:8080/",
          "height": 34
        },
        "outputId": "a08f50e7-a513-41e1-8796-43c2683e48ca"
      },
      "source": [
        "from google.colab import drive\n",
        "drive.mount('/content/drive')"
      ],
      "execution_count": null,
      "outputs": [
        {
          "output_type": "stream",
          "text": [
            "Mounted at /content/drive\n"
          ],
          "name": "stdout"
        }
      ]
    },
    {
      "cell_type": "code",
      "metadata": {
        "id": "uwBpP1oRrtSB",
        "colab": {
          "base_uri": "https://localhost:8080/",
          "height": 34
        },
        "outputId": "86e47326-4abc-4c4b-dccb-9c4ad939da5f"
      },
      "source": [
        "from google.colab import files\n",
        "files.download('standard.h5')"
      ],
      "execution_count": null,
      "outputs": [
        {
          "output_type": "display_data",
          "data": {
            "application/javascript": [
              "\n",
              "    async function download(id, filename, size) {\n",
              "      if (!google.colab.kernel.accessAllowed) {\n",
              "        return;\n",
              "      }\n",
              "      const div = document.createElement('div');\n",
              "      const label = document.createElement('label');\n",
              "      label.textContent = `Downloading \"${filename}\": `;\n",
              "      div.appendChild(label);\n",
              "      const progress = document.createElement('progress');\n",
              "      progress.max = size;\n",
              "      div.appendChild(progress);\n",
              "      document.body.appendChild(div);\n",
              "\n",
              "      const buffers = [];\n",
              "      let downloaded = 0;\n",
              "\n",
              "      const channel = await google.colab.kernel.comms.open(id);\n",
              "      // Send a message to notify the kernel that we're ready.\n",
              "      channel.send({})\n",
              "\n",
              "      for await (const message of channel.messages) {\n",
              "        // Send a message to notify the kernel that we're ready.\n",
              "        channel.send({})\n",
              "        if (message.buffers) {\n",
              "          for (const buffer of message.buffers) {\n",
              "            buffers.push(buffer);\n",
              "            downloaded += buffer.byteLength;\n",
              "            progress.value = downloaded;\n",
              "          }\n",
              "        }\n",
              "      }\n",
              "      const blob = new Blob(buffers, {type: 'application/binary'});\n",
              "      const a = document.createElement('a');\n",
              "      a.href = window.URL.createObjectURL(blob);\n",
              "      a.download = filename;\n",
              "      div.appendChild(a);\n",
              "      a.click();\n",
              "      div.remove();\n",
              "    }\n",
              "  "
            ],
            "text/plain": [
              "<IPython.core.display.Javascript object>"
            ]
          },
          "metadata": {
            "tags": []
          }
        },
        {
          "output_type": "display_data",
          "data": {
            "application/javascript": [
              "download(\"download_8904061b-e41e-4b52-9571-c1a54c61753f\", \"standard.h5\", 74010576)"
            ],
            "text/plain": [
              "<IPython.core.display.Javascript object>"
            ]
          },
          "metadata": {
            "tags": []
          }
        }
      ]
    },
    {
      "cell_type": "code",
      "metadata": {
        "id": "e4EJBtUvN-aj"
      },
      "source": [
        "from keras.preprocessing import image\n",
        "import matplotlib.pyplot as plt\n",
        "\n",
        "img = image.load_img(\"/content/drive/My Drive/check/2.jpg\", target_size = (100, 100))\n",
        "img = np.asarray(img)\n",
        "plt.imshow(img)\n",
        "img = np.expand_dims(img, axis=0)\n",
        "\n",
        "from keras.models import load_model\n",
        "saved_model = load_model(\"/content/val.h5\")\n",
        "output = saved_model.predict_classes(img)\n",
        "prediction = output[0]\n",
        "print(prediction)"
      ],
      "execution_count": null,
      "outputs": []
    }
  ]
}